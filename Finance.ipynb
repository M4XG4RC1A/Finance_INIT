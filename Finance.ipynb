{
 "cells": [
  {
   "cell_type": "markdown",
   "id": "3514e47d",
   "metadata": {},
   "source": [
    "# Manage your Finances"
   ]
  },
  {
   "cell_type": "code",
   "execution_count": 20,
   "id": "6082c6fc",
   "metadata": {},
   "outputs": [],
   "source": [
    "import ipywidgets as widgets\n",
    "amount = 0\n",
    "movements = []\n",
    "reasons = []"
   ]
  },
  {
   "cell_type": "markdown",
   "id": "846c8835",
   "metadata": {},
   "source": [
    "## Restrictions"
   ]
  },
  {
   "cell_type": "code",
   "execution_count": 21,
   "id": "02864bd3",
   "metadata": {},
   "outputs": [
    {
     "data": {
      "application/vnd.jupyter.widget-view+json": {
       "model_id": "42915cefe25144d3848f6e60b0b2e528",
       "version_major": 2,
       "version_minor": 0
      },
      "text/plain": [
       "FloatText(value=0.0)"
      ]
     },
     "metadata": {},
     "output_type": "display_data"
    }
   ],
   "source": [
    "obj = widgets.FloatText(placeholder='What is your min. Money (For Alert)');\n",
    "display(obj)"
   ]
  },
  {
   "cell_type": "markdown",
   "id": "9624142a",
   "metadata": {},
   "source": [
    "## Income"
   ]
  },
  {
   "cell_type": "code",
   "execution_count": 22,
   "id": "d2a019a9",
   "metadata": {},
   "outputs": [
    {
     "data": {
      "application/vnd.jupyter.widget-view+json": {
       "model_id": "3b84e1b5c3b84df897f0355b8bb437fb",
       "version_major": 2,
       "version_minor": 0
      },
      "text/plain": [
       "FloatText(value=0.0)"
      ]
     },
     "metadata": {},
     "output_type": "display_data"
    },
    {
     "data": {
      "application/vnd.jupyter.widget-view+json": {
       "model_id": "d73614d83c474300bbf141a415cd7e82",
       "version_major": 2,
       "version_minor": 0
      },
      "text/plain": [
       "Text(value='', placeholder='Reason of income')"
      ]
     },
     "metadata": {},
     "output_type": "display_data"
    },
    {
     "data": {
      "application/vnd.jupyter.widget-view+json": {
       "model_id": "52a5d48f983f41a0bbea9307a21632d1",
       "version_major": 2,
       "version_minor": 0
      },
      "text/plain": [
       "Button(description='Regist Ingress', style=ButtonStyle())"
      ]
     },
     "metadata": {},
     "output_type": "display_data"
    },
    {
     "data": {
      "application/vnd.jupyter.widget-view+json": {
       "model_id": "9421e220cf2f4209b812d7356582b070",
       "version_major": 2,
       "version_minor": 0
      },
      "text/plain": [
       "Text(value='', disabled=True)"
      ]
     },
     "metadata": {},
     "output_type": "display_data"
    }
   ],
   "source": [
    "def income(b):\n",
    "    global amount\n",
    "    amount = amount+amI.value\n",
    "    movements.append(\"+ {}\".format(str(amI.value)))\n",
    "    reasons.append(\"{}\".format(str(reasI.value)))\n",
    "    regI.value = \"Added \"+str(amI.value)+\", Reason: \"+reasI.value\n",
    "amI = widgets.FloatText(placeholder='Type the amount');\n",
    "display(amI)\n",
    "reasI = widgets.Text(placeholder='Reason of income');\n",
    "display(reasI)\n",
    "newI = widgets.Button(description=\"Regist Ingress\")\n",
    "display(newI)\n",
    "newI.on_click(income)\n",
    "regI = widgets.Text(value='',disabled=True);\n",
    "display(regI)"
   ]
  },
  {
   "cell_type": "markdown",
   "id": "061e4296",
   "metadata": {},
   "source": [
    "## Expenses"
   ]
  },
  {
   "cell_type": "code",
   "execution_count": 24,
   "id": "daf46ffc",
   "metadata": {},
   "outputs": [
    {
     "data": {
      "application/vnd.jupyter.widget-view+json": {
       "model_id": "be10a771948e41f3bf530da844c860f0",
       "version_major": 2,
       "version_minor": 0
      },
      "text/plain": [
       "FloatText(value=0.0)"
      ]
     },
     "metadata": {},
     "output_type": "display_data"
    },
    {
     "data": {
      "application/vnd.jupyter.widget-view+json": {
       "model_id": "649916d8d31c4891a5562107668c3359",
       "version_major": 2,
       "version_minor": 0
      },
      "text/plain": [
       "Text(value='', placeholder='Reason of income')"
      ]
     },
     "metadata": {},
     "output_type": "display_data"
    },
    {
     "data": {
      "application/vnd.jupyter.widget-view+json": {
       "model_id": "1122b7cefabd42bbbac781b894db167c",
       "version_major": 2,
       "version_minor": 0
      },
      "text/plain": [
       "Button(description='Regist Ingress', style=ButtonStyle())"
      ]
     },
     "metadata": {},
     "output_type": "display_data"
    },
    {
     "data": {
      "application/vnd.jupyter.widget-view+json": {
       "model_id": "7a9d1ad174954bed9f59403754fb15a2",
       "version_major": 2,
       "version_minor": 0
      },
      "text/plain": [
       "Text(value='', disabled=True)"
      ]
     },
     "metadata": {},
     "output_type": "display_data"
    }
   ],
   "source": [
    "def expense(b):\n",
    "    global amount\n",
    "    amount = amount-amE.value\n",
    "    movements.append(\"- {}\".format(str(amE.value)))\n",
    "    reasons.append(\"{}\".format(str(reasE.value)))\n",
    "    regE.value = \"Extract \"+str(amE.value)+\", Reason: \"+reasE.value\n",
    "amE = widgets.FloatText(placeholder='Type the amount');\n",
    "display(amE)\n",
    "reasE = widgets.Text(placeholder='Reason of income');\n",
    "display(reasE)\n",
    "newE = widgets.Button(description=\"Regist Ingress\")\n",
    "display(newE)\n",
    "newE.on_click(expense)\n",
    "regE = widgets.Text(value='',disabled=True);\n",
    "display(regE)"
   ]
  },
  {
   "cell_type": "markdown",
   "id": "0adea4b4",
   "metadata": {},
   "source": [
    "## Historial"
   ]
  },
  {
   "cell_type": "code",
   "execution_count": 23,
   "id": "37f0c37d",
   "metadata": {},
   "outputs": [
    {
     "data": {
      "application/vnd.jupyter.widget-view+json": {
       "model_id": "6b0cf46041474c68a325843d0331ec0d",
       "version_major": 2,
       "version_minor": 0
      },
      "text/plain": [
       "Text(value='You have: 130.0', disabled=True)"
      ]
     },
     "metadata": {},
     "output_type": "display_data"
    },
    {
     "data": {
      "application/vnd.jupyter.widget-view+json": {
       "model_id": "1bf0d917c88b4fe2adb054bae904a6db",
       "version_major": 2,
       "version_minor": 0
      },
      "text/plain": [
       "SelectMultiple(options=('+ 100.0, Reason 1', '+ 10.0, Reason 2', '+ 20.0, Reason 2'), value=())"
      ]
     },
     "metadata": {},
     "output_type": "display_data"
    },
    {
     "data": {
      "application/vnd.jupyter.widget-view+json": {
       "model_id": "4bad63b5fa944af0b2e7b2f65a3f18b6",
       "version_major": 2,
       "version_minor": 0
      },
      "text/plain": [
       "Button(description='Reload', style=ButtonStyle())"
      ]
     },
     "metadata": {},
     "output_type": "display_data"
    }
   ],
   "source": [
    "def Act(b):\n",
    "    global amount\n",
    "    opts = []\n",
    "    for i in range(len(movements)):\n",
    "        opts.append(movements[i]+\", \"+reasons[i])\n",
    "    move.options = opts\n",
    "    if amount < obj.value:\n",
    "        have.value = \"You have: {}, It's out of minimal\".format(str(amount))\n",
    "    else:\n",
    "        have.value = \"You have: {}\".format(str(amount))\n",
    "have = widgets.Text(value='',disabled=True);\n",
    "if amount < obj.value:\n",
    "    have.value = \"You have: {}, It's out of minimal\".format(str(amount))\n",
    "else:\n",
    "    have.value = \"You have: {}\".format(str(amount))\n",
    "display(have)\n",
    "opts = []\n",
    "for i in range(len(movements)):\n",
    "    opts.append(movements[i]+\", \"+reasons[i])\n",
    "move = widgets.SelectMultiple(options=opts)\n",
    "display(move)\n",
    "check = widgets.Button(description=\"Reload\")\n",
    "display(check)\n",
    "check.on_click(Act)"
   ]
  }
 ],
 "metadata": {
  "kernelspec": {
   "display_name": "Python 3",
   "language": "python",
   "name": "python3"
  },
  "language_info": {
   "codemirror_mode": {
    "name": "ipython",
    "version": 3
   },
   "file_extension": ".py",
   "mimetype": "text/x-python",
   "name": "python",
   "nbconvert_exporter": "python",
   "pygments_lexer": "ipython3",
   "version": "3.8.8"
  }
 },
 "nbformat": 4,
 "nbformat_minor": 5
}
